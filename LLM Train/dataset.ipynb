{
 "cells": [
  {
   "cell_type": "markdown",
   "metadata": {},
   "source": [
    "Getting data from OPEN-OCRA"
   ]
  },
  {
   "cell_type": "code",
   "execution_count": 1,
   "metadata": {},
   "outputs": [
    {
     "name": "stdout",
     "output_type": "stream",
     "text": [
      "DatasetDict({\n",
      "    train: Dataset({\n",
      "        features: ['id', 'system_prompt', 'question', 'response'],\n",
      "        num_rows: 4233923\n",
      "    })\n",
      "})\n"
     ]
    }
   ],
   "source": [
    "from datasets import load_dataset \n",
    "import numpy as np \n",
    "from datasets import Dataset\n",
    "import matplotlib.pyplot as plt\n",
    " \n",
    "dataset = load_dataset(\"Open-Orca/OpenOrca\")\n",
    "\n",
    "print(dataset)"
   ]
  },
  {
   "cell_type": "code",
   "execution_count": null,
   "metadata": {},
   "outputs": [],
   "source": []
  },
  {
   "cell_type": "markdown",
   "metadata": {},
   "source": [
    "Tokenization of instruction "
   ]
  },
  {
   "cell_type": "code",
   "execution_count": 2,
   "metadata": {},
   "outputs": [
    {
     "name": "stdout",
     "output_type": "stream",
     "text": [
      "DatasetDict({\n",
      "    train: Dataset({\n",
      "        features: ['id', 'system_prompt', 'question', 'response'],\n",
      "        num_rows: 1216347\n",
      "    })\n",
      "})\n",
      "{'id': 'flan.2136716', 'system_prompt': 'You are an AI assistant. User will you give you a task. Your goal is to complete the task as faithfully as you can. While performing the task think step-by-step and justify your steps.', 'question': 'Multi-choice question: What is the sentiment of the following tweet?\\nTweet: @nikkigreen I told you \\nChoose your answer from:\\n + negative;\\n + positive;', 'response': 'To determine the sentiment of the tweet, we need to analyze it thoroughly.\\n\\nTweet: @nikkigreen I told you\\n\\nStep 1: Identify the words or phrases that carry emotional weight.\\nIn this tweet, there is only one phrase worth examining: \"I told you.\"\\n\\nStep 2: Determine the sentiment of the identified words or phrases.\\n\"I told you\" can carry a variety of sentiments, depending on the context. It could be positive, negative, or neutral.\\n\\nStep 3: Consider the overall context of the tweet.\\nUnfortunately, without more context, it is impossible to determine the exact sentiment of the tweet.\\n\\nAs a result, we cannot confidently choose an answer from the provided options, positive or negative, without more contextual information.'}\n"
     ]
    }
   ],
   "source": [
    "\n",
    "\n",
    "def token(text):\n",
    "    return len(text.split())\n",
    "\n",
    "def filter_function(example):\n",
    "    return token(example['response']) >= 100\n",
    "\n",
    "token_dataset = dataset.filter(filter_function)\n",
    "\n",
    "\n",
    "print(token_dataset)\n",
    "\n",
    "print(token_dataset['train'][0])\n"
   ]
  },
  {
   "cell_type": "markdown",
   "metadata": {},
   "source": [
    "Data Deduplication and Converting into CSV file "
   ]
  },
  {
   "cell_type": "code",
   "execution_count": 3,
   "metadata": {},
   "outputs": [
    {
     "name": "stdout",
     "output_type": "stream",
     "text": [
      "Dataset({\n",
      "    features: ['instruction'],\n",
      "    num_rows: 3\n",
      "})\n",
      "Deduplicated data saved to CSV file: deduplicated_instructions.csv\n"
     ]
    }
   ],
   "source": [
    "\n",
    "\n",
    "def cosine_similarity(text1, text2):\n",
    "    \"\"\"Calculates cosine similarity between two text vectors.\"\"\"\n",
    "    tokens1 = text1.split()\n",
    "    tokens2 = text2.split()\n",
    "\n",
    "    unique_tokens = list(set(tokens1 + tokens2))\n",
    "    vec1 = np.zeros(len(unique_tokens))\n",
    "    vec2 = np.zeros(len(unique_tokens))\n",
    "\n",
    "    token_index = {token: i for i, token in enumerate(unique_tokens)}\n",
    "\n",
    "    for token in tokens1:\n",
    "        vec1[token_index[token]] += 1\n",
    "\n",
    "    for token in tokens2:\n",
    "        vec2[token_index[token]] += 1\n",
    "\n",
    "    dot_product = np.dot(vec1, vec2)\n",
    "    magnitude1 = np.linalg.norm(vec1)\n",
    "    magnitude2 = np.linalg.norm(vec2)\n",
    "    \n",
    "    if magnitude1 > 0 and magnitude2 > 0:\n",
    "        cosine_sim = dot_product / (magnitude1 * magnitude2)\n",
    "    else:\n",
    "        cosine_sim = 0.0\n",
    "    \n",
    "    return cosine_sim\n",
    "\n",
    "def deduplicate_dataset(dataset, threshold=0.95):\n",
    "    \n",
    "    seen_instructions = []\n",
    "    filtered_dataset = []\n",
    "    \n",
    "    for examples in dataset:\n",
    "        text = examples['instruction']\n",
    "        is_duplicate = False\n",
    "        \n",
    "        for seen_text in seen_instructions:\n",
    "            similarity = cosine_similarity(text, seen_text)\n",
    "            if similarity >= threshold:\n",
    "                is_duplicate = True\n",
    "                break\n",
    "        \n",
    "        if not is_duplicate:\n",
    "            seen_instructions.append(text)\n",
    "            filtered_dataset.append(examples)\n",
    "    \n",
    "    return Dataset.from_list(filtered_dataset)\n",
    "\n",
    "def save_data_to_csv(data, filepath):\n",
    "    with open(filepath, \"w\", newline=\"\") as f:\n",
    "        f.write(\"instruction\\n\")\n",
    "        for examples in data:\n",
    "            instruction = examples[\"instruction\"]\n",
    "            f.write(f\"{instruction}\\n\")\n",
    "\n",
    "# Example dataset\n",
    "train_data = Dataset.from_dict({\n",
    "    \"instruction\": [\"Example instruction 1\", \"Example instruction 2\", \"Example instruction 1\"]\n",
    "})\n",
    "\n",
    "print(train_data)\n",
    "# Deduplicate dataset\n",
    "deduplicated_data = deduplicate_dataset(train_data)\n",
    "\n",
    "# Specify a descriptive filename for the deduplicated data\n",
    "open_ocra_deduplicated = \"deduplicated_instructions.csv\"\n",
    "\n",
    "# Save the deduplicated data to CSV\n",
    "save_data_to_csv(deduplicated_data, open_ocra_deduplicated)\n",
    "\n",
    "print(f\"Deduplicated data saved to CSV file: {open_ocra_deduplicated}\")\n"
   ]
  },
  {
   "cell_type": "markdown",
   "metadata": {},
   "source": [
    "Plotting graph "
   ]
  },
  {
   "cell_type": "code",
   "execution_count": 4,
   "metadata": {},
   "outputs": [
    {
     "data": {
      "image/png": "[encoded data removed]",
      "text/plain": [
       "<Figure size 640x480 with 1 Axes>"
      ]
     },
     "metadata": {},
     "output_type": "display_data"
    }
   ],
   "source": [
    "def tokenize_instruction(instruction):\n",
    "    \"\"\"Tokenizes an instruction into a list of words.\"\"\"\n",
    "    tokens = instruction.split()\n",
    "    return tokens\n",
    "\n",
    "token_counts = []\n",
    "for example in dataset['train']:\n",
    "    text = example['response']  # Adjust key based on actual dataset structure\n",
    "    token_counts.append(len(tokenize_instruction(text)))\n",
    "\n",
    "# Plot token distribution\n",
    "plt.hist(token_counts, bins=30)  # Adjust bins as needed\n",
    "plt.xlabel(\"Number of Tokens\")\n",
    "plt.ylabel(\"Frequency\")\n",
    "plt.title(\"Histogram of Token Distribution\")\n",
    "plt.grid(True)\n",
    "plt.show()"
   ]
  }
 ],
 "metadata": {
  "kernelspec": {
   "display_name": "Python 3",
   "language": "python",
   "name": "python3"
  },
  "language_info": {
   "codemirror_mode": {
    "name": "ipython",
    "version": 3
   },
   "file_extension": ".py",
   "mimetype": "text/x-python",
   "name": "python",
   "nbconvert_exporter": "python",
   "pygments_lexer": "ipython3",
   "version": "3.12.3"
  }
 },
 "nbformat": 4,
 "nbformat_minor": 2
}
